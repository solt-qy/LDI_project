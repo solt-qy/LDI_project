{
 "cells": [
  {
   "cell_type": "markdown",
   "id": "79c4a1d6",
   "metadata": {},
   "source": [
    "# Load Training Data"
   ]
  },
  {
   "cell_type": "code",
   "execution_count": 2,
   "id": "1fba1be6",
   "metadata": {},
   "outputs": [
    {
     "data": {
      "text/html": [
       "<div>\n",
       "<style scoped>\n",
       "    .dataframe tbody tr th:only-of-type {\n",
       "        vertical-align: middle;\n",
       "    }\n",
       "\n",
       "    .dataframe tbody tr th {\n",
       "        vertical-align: top;\n",
       "    }\n",
       "\n",
       "    .dataframe thead th {\n",
       "        text-align: right;\n",
       "    }\n",
       "</style>\n",
       "<table border=\"1\" class=\"dataframe\">\n",
       "  <thead>\n",
       "    <tr style=\"text-align: right;\">\n",
       "      <th></th>\n",
       "      <th>filename</th>\n",
       "      <th>package_hash</th>\n",
       "      <th>manual_tag</th>\n",
       "      <th>tag_set</th>\n",
       "      <th>category_set</th>\n",
       "    </tr>\n",
       "  </thead>\n",
       "  <tbody>\n",
       "    <tr>\n",
       "      <th>0</th>\n",
       "      <td>101729-0-0-1.wav</td>\n",
       "      <td>u8k_fold9</td>\n",
       "      <td>air_conditioner</td>\n",
       "      <td>{air_conditioner}</td>\n",
       "      <td>{mechanical}</td>\n",
       "    </tr>\n",
       "    <tr>\n",
       "      <th>1</th>\n",
       "      <td>103249-5-0-1.wav</td>\n",
       "      <td>u8k_fold9</td>\n",
       "      <td>engine_idling</td>\n",
       "      <td>{engine_idling}</td>\n",
       "      <td>{transport_car}</td>\n",
       "    </tr>\n",
       "    <tr>\n",
       "      <th>2</th>\n",
       "      <td>104817-4-0-11.wav</td>\n",
       "      <td>u8k_fold2</td>\n",
       "      <td>drilling</td>\n",
       "      <td>{drilling}</td>\n",
       "      <td>{mechanical_construction}</td>\n",
       "    </tr>\n",
       "    <tr>\n",
       "      <th>3</th>\n",
       "      <td>104998-7-16-0.wav</td>\n",
       "      <td>u8k_fold5</td>\n",
       "      <td>jackhammer</td>\n",
       "      <td>{jackhammer}</td>\n",
       "      <td>{mechanical_construction}</td>\n",
       "    </tr>\n",
       "    <tr>\n",
       "      <th>4</th>\n",
       "      <td>104998-7-18-3.wav</td>\n",
       "      <td>u8k_fold5</td>\n",
       "      <td>jackhammer</td>\n",
       "      <td>{jackhammer}</td>\n",
       "      <td>{mechanical_construction}</td>\n",
       "    </tr>\n",
       "  </tbody>\n",
       "</table>\n",
       "</div>"
      ],
      "text/plain": [
       "            filename package_hash       manual_tag            tag_set  \\\n",
       "0   101729-0-0-1.wav    u8k_fold9  air_conditioner  {air_conditioner}   \n",
       "1   103249-5-0-1.wav    u8k_fold9    engine_idling    {engine_idling}   \n",
       "2  104817-4-0-11.wav    u8k_fold2         drilling         {drilling}   \n",
       "3  104998-7-16-0.wav    u8k_fold5       jackhammer       {jackhammer}   \n",
       "4  104998-7-18-3.wav    u8k_fold5       jackhammer       {jackhammer}   \n",
       "\n",
       "                category_set  \n",
       "0               {mechanical}  \n",
       "1            {transport_car}  \n",
       "2  {mechanical_construction}  \n",
       "3  {mechanical_construction}  \n",
       "4  {mechanical_construction}  "
      ]
     },
     "execution_count": 2,
     "metadata": {},
     "output_type": "execute_result"
    }
   ],
   "source": [
    "import pathlib\n",
    "import pandas as pd\n",
    "\n",
    "# set your path here\n",
    "data_root = pathlib.Path('/Volumes/Clavius/documents/Documents/Employment/NoiseNet/Development/tag_data/sample_set/')\n",
    "manifest_path = data_root/'01_manifest.pkl'\n",
    "\n",
    "# read the manifest in\n",
    "manifest = pd.read_pickle(manifest_path)\n",
    "manifest.head()"
   ]
  },
  {
   "cell_type": "markdown",
   "id": "39057241",
   "metadata": {},
   "source": [
    "# Category Labels"
   ]
  },
  {
   "cell_type": "code",
   "execution_count": 3,
   "id": "c031db81",
   "metadata": {},
   "outputs": [
    {
     "data": {
      "text/plain": [
       "array(['animal_birds', 'animal_cockatoo', 'animal_dogs', 'animal_insects',\n",
       "       'animal_poultry', 'background', 'human_voice', 'indeterminate',\n",
       "       'mechanical', 'mechanical_construction', 'mechanical_impulsive',\n",
       "       'nature_wind', 'signals_horn', 'signals_siren', 'transport_car'],\n",
       "      dtype=object)"
      ]
     },
     "execution_count": 3,
     "metadata": {},
     "output_type": "execute_result"
    }
   ],
   "source": [
    "from sklearn.preprocessing import MultiLabelBinarizer\n",
    "\n",
    "final_categories = [\"animal_dogs\", \"animal_insects\", \"animal_birds\", \"animal_cockatoo\", \"animal_poultry\",  \"background\",\"human_voice\",  \"indeterminate\",\"mechanical\", \"mechanical_construction\", \"mechanical_impulsive\",\"nature_wind\", \"signals_horn\", \"signals_siren\", \"transport_car\"]\n",
    "category_encoder = MultiLabelBinarizer().fit([final_categories])\n",
    "category_encoder.classes_"
   ]
  },
  {
   "cell_type": "markdown",
   "id": "da5ff2db",
   "metadata": {},
   "source": [
    "# Preprocessing and Features"
   ]
  },
  {
   "cell_type": "code",
   "execution_count": 89,
   "id": "04be42d3",
   "metadata": {},
   "outputs": [],
   "source": [
    "# These spectrogram settings look pretty good from a domain perspective.\n",
    "# Trying a little bit higher \"resolution\" than previously\n",
    "mel_settings = {'fmax': 8000, 'power': 2, 'n_mels' :128, 'n_fft':2048, 'hop_length':512}\n",
    "fs_nom = 16000 # Nominal sampling rate. Most files should be this rate, but if not, they will be resampled\n",
    "shape_nom = (128,126) # nominal spectrogram shape"
   ]
  },
  {
   "cell_type": "code",
   "execution_count": 92,
   "id": "d8aa18ce",
   "metadata": {},
   "outputs": [],
   "source": [
    "import os\n",
    "import numpy as np\n",
    "import soundfile as sf\n",
    "import librosa\n",
    "import librosa.display\n",
    "import sklearn\n",
    "\n",
    "def force_array_shape(x, force_shape):\n",
    "    \"\"\"Forces a numpy array to a specific shape by filling with zeros, or truncating\"\"\"\n",
    "    pad_widths = []\n",
    "    for ax, ax_length in enumerate(force_shape):\n",
    "        if x.shape[ax] >= ax_length:\n",
    "            x = x.take(indices=range(0,ax_length), axis=ax)\n",
    "        pad_widths.append((0,ax_length-x.shape[ax]))\n",
    "    x = np.pad(x, pad_widths)\n",
    "    return x\n",
    "\n",
    "def get_mels(filepath='', data=[], fs=None, force_shape=None):\n",
    "    if filepath:\n",
    "        data, fs = librosa.load(filepath, sr=fs)\n",
    "        if fs != fs_nom:\n",
    "            print(filepath)\n",
    "    else:\n",
    "        assert (len(data>0) and fs >0), 'Must provide either a filename, or array of data and sample rate'\n",
    "    \n",
    "    S = librosa.feature.melspectrogram(y=data, \n",
    "                                   sr = fs, **mel_settings)\n",
    "    \n",
    "    if force_shape and S.shape != force_shape:\n",
    "        \n",
    "        S = force_array_shape(S, force_shape)\n",
    "            \n",
    "    return S, fs\n",
    " \n",
    "def load_mels(filepath, force_create=False, save=True):\n",
    "    mel_path = filepath.with_suffix('.npy')\n",
    "    \n",
    "    if mel_path.is_file() and not force_create:\n",
    "        #print('Loading {}'.format(mel_path))\n",
    "        mels = np.load(mel_path)\n",
    "    else:\n",
    "        #print('Generating from {}'.format(filepath))\n",
    "        mels, _ = get_mels(filepath, fs=fs_nom, force_shape = shape_nom)\n",
    "        if save:\n",
    "            #print('Saving {}'.format(mel_path))\n",
    "            np.save(mel_path, mels)\n",
    "    \n",
    "    return mels\n",
    "\n",
    "def feature_preprocessing(mel):\n",
    "    # convert to db and normalise\n",
    "    power = librosa.core.power_to_db(mel, ref=np.max)\n",
    "    power = power - np.mean(power)\n",
    "    power = power / (np.std(power))\n",
    "    return power[:, :, None]\n"
   ]
  },
  {
   "cell_type": "code",
   "execution_count": 93,
   "id": "bf422994",
   "metadata": {},
   "outputs": [],
   "source": [
    "# generate the features\n",
    "# note this will store all features in memory, as well as saving them to disk. \n",
    "# Can't guarantee it will work for large datasets.\n",
    "manifest['features'] = manifest.apply(lambda x: data_root/x['package_hash']/x['filename'], axis=1).apply(lambda x: feature_preprocessing(load_mels(x, force_create=True, save=True)))"
   ]
  },
  {
   "cell_type": "code",
   "execution_count": 7,
   "id": "c50acf5f",
   "metadata": {},
   "outputs": [
    {
     "data": {
      "text/plain": [
       "(128, 126, 1)"
      ]
     },
     "execution_count": 7,
     "metadata": {},
     "output_type": "execute_result"
    }
   ],
   "source": [
    "manifest.iloc[0]['features'].shape"
   ]
  },
  {
   "cell_type": "markdown",
   "id": "8abdc3ff",
   "metadata": {},
   "source": [
    "# Test/Train Split\n",
    "\n",
    "NB\n",
    "* Category Supports reflect rough proportions in the large data set. \n",
    "* Will have to improve design by balancing classes via oversampling, augmentation, or training weights."
   ]
  },
  {
   "cell_type": "code",
   "execution_count": 94,
   "id": "037d66af",
   "metadata": {},
   "outputs": [
    {
     "name": "stderr",
     "output_type": "stream",
     "text": [
      "/opt/anaconda3/envs/ldi/lib/python3.10/site-packages/sklearn/preprocessing/_label.py:875: UserWarning: unknown class(es) ['animal_other', 'human_movement', 'music', 'signals_bell', 'transport_aircraft', 'transport_motorcycle'] will be ignored\n",
      "  warnings.warn(\n"
     ]
    },
    {
     "name": "stdout",
     "output_type": "stream",
     "text": [
      "Category Support\n",
      "animal_birds                  [[1 0 0 0 0 0 0 0 0 0 0 0 0 0 0]] : 2382\n",
      "animal_cockatoo               [[0 1 0 0 0 0 0 0 0 0 0 0 0 0 0]] : 6\n",
      "animal_dogs                   [[0 0 1 0 0 0 0 0 0 0 0 0 0 0 0]] : 2229\n",
      "animal_insects                [[0 0 0 1 0 0 0 0 0 0 0 0 0 0 0]] : 677\n",
      "animal_poultry                [[0 0 0 0 1 0 0 0 0 0 0 0 0 0 0]] : 12\n",
      "background                    [[0 0 0 0 0 1 0 0 0 0 0 0 0 0 0]] : 915\n",
      "human_voice                   [[0 0 0 0 0 0 1 0 0 0 0 0 0 0 0]] : 964\n",
      "indeterminate                 [[0 0 0 0 0 0 0 1 0 0 0 0 0 0 0]] : 17\n",
      "mechanical                    [[0 0 0 0 0 0 0 0 1 0 0 0 0 0 0]] : 2099\n",
      "mechanical_construction       [[0 0 0 0 0 0 0 0 0 1 0 0 0 0 0]] : 35\n",
      "mechanical_impulsive          [[0 0 0 0 0 0 0 0 0 0 1 0 0 0 0]] : 4\n",
      "nature_wind                   [[0 0 0 0 0 0 0 0 0 0 0 1 0 0 0]] : 856\n",
      "signals_horn                  [[0 0 0 0 0 0 0 0 0 0 0 0 1 0 0]] : 7\n",
      "signals_siren                 [[0 0 0 0 0 0 0 0 0 0 0 0 0 1 0]] : 7\n",
      "transport_car                 [[0 0 0 0 0 0 0 0 0 0 0 0 0 0 1]] : 1251\n",
      "\n",
      "(4964, 128, 126, 1)\n",
      "(4964, 15)\n",
      "(3971, 128, 126, 1) (993, 128, 126, 1)\n",
      "(3971, 15) (993, 15)\n"
     ]
    }
   ],
   "source": [
    "from sklearn.model_selection import train_test_split\n",
    "\n",
    "X = np.stack(manifest['features'].values)\n",
    "y = category_encoder.transform(manifest['category_set'].values)\n",
    "\n",
    "print('Category Support')\n",
    "for c,n in zip(category_encoder.classes_, y.sum(axis=0)):\n",
    "    print('{:30s}{} : {}'.format(c, category_encoder.transform([[c]]), n) )\n",
    "\n",
    "print()\n",
    "print(X.shape)\n",
    "print(y.shape)\n",
    "\n",
    "X_train, X_test, y_train, y_test = train_test_split(X, y, test_size=0.2)\n",
    "\n",
    "print(X_train.shape, X_test.shape)\n",
    "print(y_train.shape, y_test.shape)"
   ]
  },
  {
   "cell_type": "code",
   "execution_count": null,
   "id": "461375bf",
   "metadata": {},
   "outputs": [],
   "source": []
  },
  {
   "cell_type": "code",
   "execution_count": null,
   "id": "d2b830bd",
   "metadata": {},
   "outputs": [],
   "source": []
  },
  {
   "cell_type": "code",
   "execution_count": null,
   "id": "73302354",
   "metadata": {},
   "outputs": [],
   "source": []
  },
  {
   "cell_type": "code",
   "execution_count": null,
   "id": "6b97122e",
   "metadata": {},
   "outputs": [],
   "source": []
  },
  {
   "cell_type": "code",
   "execution_count": null,
   "id": "2527b77f",
   "metadata": {},
   "outputs": [],
   "source": []
  },
  {
   "cell_type": "code",
   "execution_count": null,
   "id": "d458d1fd",
   "metadata": {},
   "outputs": [],
   "source": []
  }
 ],
 "metadata": {
  "kernelspec": {
   "display_name": "Python [conda env:ldi] *",
   "language": "python",
   "name": "conda-env-ldi-py"
  },
  "language_info": {
   "codemirror_mode": {
    "name": "ipython",
    "version": 3
   },
   "file_extension": ".py",
   "mimetype": "text/x-python",
   "name": "python",
   "nbconvert_exporter": "python",
   "pygments_lexer": "ipython3",
   "version": "3.10.2"
  }
 },
 "nbformat": 4,
 "nbformat_minor": 5
}
