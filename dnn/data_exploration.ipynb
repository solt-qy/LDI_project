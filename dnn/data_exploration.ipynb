{
 "cells": [
  {
   "cell_type": "code",
   "execution_count": 100,
   "id": "aa210f48",
   "metadata": {},
   "outputs": [],
   "source": [
    "import pathlib\n",
    "import shutil\n",
    "import pandas as pd\n",
    "import numpy as np\n",
    "import soundfile as sf\n",
    "import librosa\n",
    "import librosa.display\n",
    "import matplotlib.pyplot as plt\n",
    "import IPython.display as ipd"
   ]
  },
  {
   "cell_type": "code",
   "execution_count": 146,
   "id": "3ba00837",
   "metadata": {},
   "outputs": [],
   "source": [
    "# Functions for tag and category manipulation\n",
    "\n",
    "def get_tag_set(tag):\n",
    "    s = set(tag.split('-'))\n",
    "    s.discard('')\n",
    "    return s\n",
    "\n",
    "def superset(subsets):\n",
    "    return set.union(*subsets)\n",
    "    \n",
    "def one_to_many(df, from_col = 'category_set', to_col = 'category'):\n",
    "    # distributes a single snippet (row), with multiple assigned tags/categories, to multiple rows,\n",
    "    # one with each each individual tag/category in the to_col entry.\n",
    "    \n",
    "    dfs = []\n",
    "    # get all the unique category/tag values\n",
    "    unique = superset(df[from_col].values)\n",
    "    for u in unique:\n",
    "        # create a new dataframe with index of the single unique category/tag, and values of all the rows\n",
    "        # of the original dataframe where the set in the from_col contains that unique category/tag\n",
    "        # append it to a list\n",
    "        dfs.append(pd.concat({u: df.loc[df[from_col].apply(lambda x: u in x), :]}, names=[to_col]))\n",
    "    # join them all together, and reset the index so the single category is a column\n",
    "    return pd.concat(dfs).droplevel(1).reset_index()\n",
    "\n",
    "def many_to_one(df):\n",
    "    # reverses the one to many operation, keeping one row per unique snippet.\n",
    "    # assumes the useful 'category_set' column still exists\n",
    "    return df.groupby(['filename','package_hash']).first().reset_index().drop('category', axis=1)\n",
    "\n",
    "def supports(df, on_col='category'):\n",
    "    return df.groupby(on_col).size()\n",
    "\n",
    "def copy_to_new_package(df, destination_root):\n",
    "    [(destination_root/x).mkdir() for x in df.groupby('package_hash').groups.keys()]\n",
    "    \n",
    "    df.apply(lambda x: shutil.copy(data_root/x['package_hash']/x['filename'], destination_root/x['package_hash']/x['filename']), axis=1)\n",
    "    \n",
    "    df.to_csv(destination_root/'01_manifest.csv', index=False)\n",
    "    df.to_pickle(destination_root/'01_manifest.pkl')"
   ]
  },
  {
   "cell_type": "code",
   "execution_count": 4,
   "id": "d1feb8ac",
   "metadata": {},
   "outputs": [],
   "source": [
    "# Functions for listen functionality\n",
    "\n",
    "feature_settings = {'fmax': 8000, 'power': 2, 'n_mels' :64, 'n_fft':2048, 'hop_length':1024}\n",
    "\n",
    "def get_features(filepath='', data=[], fs=-1):\n",
    "    if filepath:\n",
    "        data, fs = sf.read(filepath)\n",
    "    else:\n",
    "        assert (len(data>0) and fs >0), 'Must provide either a filename, or array of data and sample rate'\n",
    "    \n",
    "    S = librosa.feature.melspectrogram(y=data, \n",
    "                                   sr = fs, **feature_settings)\n",
    "    return S, fs\n",
    "    \n",
    "def plot_features(filepath='', data=[], fs=-1):\n",
    "\n",
    "    features, fs = get_features(filepath, data, fs)\n",
    "    \n",
    "    plt.figure()\n",
    "    librosa.display.specshow(librosa.power_to_db(features),y_axis='mel',x_axis='time',fmax = feature_settings['fmax'], hop_length = feature_settings['hop_length'], sr=fs)\n",
    "    plt.show()\n",
    "\n",
    "def change_gain(data, gain):\n",
    "    data *= gain\n",
    "    return data.clip(-1.0, 1.0)\n",
    "\n",
    "def listen_to_snippet(snippet, gain, **kwargs):\n",
    "    _input = 'r'\n",
    "    \n",
    "    data, fs = sf.read(snippet)\n",
    "\n",
    "    data = change_gain(data, gain)\n",
    "\n",
    "    if kwargs.get('plot',True):\n",
    "        plot_features(data=data, fs=fs) #this makes the tagging process sluggish\n",
    "    \n",
    "    \n",
    "    while _input == 'r':  # replay tag\n",
    "        ipd.display(ipd.Audio(data, rate=fs, autoplay=True))\n",
    "        ipd.set_matplotlib_close(close=True)\n",
    "        _input = input()\n",
    "        if _input.startswith('volume'):\n",
    "            try:\n",
    "                old_gain = gain\n",
    "                gain = float(_input.split('=')[1]) / 100.0\n",
    "                data = change_gain(data, gain)\n",
    "                print('Gain set to {}'.format(gain))\n",
    "            except:\n",
    "                print(\n",
    "                    'Volume could not be set! Enter \"volume=100\" (normal), \"volume=200\" (Louder), \"volume=800\" (Even Louder), \"volume=50\" (Quieter) etc')\n",
    "            else:\n",
    "                _input = 'r'\n",
    "    \n",
    "    return _input, gain\n",
    "\n",
    "\n",
    "def listen_to_snippets(df, data_root, *args, **kwargs):\n",
    "    \"\"\"\n",
    "    kwargs\n",
    "        random: shuffle rows of the dataframe\n",
    "        n: total number of snippets to listen to \n",
    "        plot: plot a spectrogram\n",
    "    \"\"\"\n",
    "    subset = df\n",
    "    gain = 1.0\n",
    "    \n",
    "    # shuffle or not\n",
    "    if kwargs.pop('random',True):\n",
    "        subset = subset.sample(frac=1)\n",
    "    \n",
    "    for i,row in subset.iloc[:kwargs.pop('n',None)].iterrows():\n",
    "        print(row)\n",
    "        file = data_root/row['package_hash']/row['filename']\n",
    "        print(file)\n",
    "        try:\n",
    "            _input, gain = listen_to_snippet(file, gain, **kwargs)\n",
    "            if _input =='q':\n",
    "                break\n",
    "        except Exception as e:\n",
    "            print('Error Listening to {}, with error: {}'.format(file, e))\n"
   ]
  },
  {
   "cell_type": "code",
   "execution_count": 139,
   "id": "c8f14881",
   "metadata": {},
   "outputs": [],
   "source": [
    "# categorisation utilities\n",
    "category_mapping = {\" do\": \"animal_dogs\",\"a\": \"indeterminate\",\"ae\": \"\",\"at\": \"human_voice\",\"b\": \"background\",\"ba\": \"background\",\"baa\": \"background\",\"bar\": \"background\",\"bbi\": \"animal_birds\",\"bca\": \"background\",\"bcr\": \"background\",\"be\": \"signals_bell\",\"bi\": \"animal_birds\",\"bia\": \"animal_birds\",\"bib\": \"animal_birds\",\"bir\": \"animal_birds\",\"bme\": \"mechanical\",\"bs\": \"mechanical_construction\",\"bwi\": \"nature_wind\",\"bz\": \"digital_distortion\",\"c\": \"transport_car\",\"ca\": \"transport_car\",\"ccr\": \"animal_insects\",\"ce\": \"animal_insects\",\"cer\": \"animal_insects\",\"ch\": \"animal_poultry\",\"ck\": \"animal_cockatoo\",\"cl\": \"digital_distortion\",\"cme\": \"mechanical\",\"cr\": \"animal_insects\",\"cre\": \"animal_insects\",\"ct\": \"animal_crow\",\"cw\": \"animal_other\",\"cz\": \"human_movement\",\"db\": \"indeterminate\",\"dg\": \"animal_dogs\",\"didi\": \"digital_distortion\",\"dl\": \"human_movement\",\"do\": \"animal_dogs\",\"dob\": \"animal_dogs\",\"doi\": \"animal_dogs\",\"don\": \"animal_dogs\",\"dor\": \"animal_dogs\",\"ds\": \"human_movement\",\"du\": \"animal_poultry\",\"f\": \"\",\"fr\": \"animal_other\",\"ft\": \"human_movement\",\"ga\": \"animal_birds\",\"ge\": \"animal_other\",\"go\": \"indeterminate\",\"gr\": \"mechanical_construction\",\"ha\": \"mechanical_construction\",\"he\": \"transport_aircraft\",\"ho\": \"signals_horn\",\"hu\": \"human_movement\",\"i\": \"mechanical_impulsive\",\"im\": \"mechanical_impulsive\",\"in\": \"indeterminate\",\"is\": \"animal_insects\",\"lo\": \"indeterminate\",\"ls\": \"\",\"m\": \"mechanical\",\"ma\": \"mechanical\",\"Mar\": \"mechanical\",\"me\": \"mechanical\",\"mec\": \"mechanical\",\"meow\": \"animal_other\",\"mer\": \"mechanical\",\"mi\": \"signals_tone\",\"mo\": \"transport_motorcycle\",\"mp\": \"indeterminate\",\"mr\": \"mechanical\",\"mu\": \"music\",\"mw\": \"mechanical\",\"na\": \"nature_rain\",\"ne\": \"mechanical\",\"nu\": \"music\",\"o\": \"animal_dogs\",\"ol\": \"transport_aircraft\",\"pf\": \"human_movement\",\"ph\": \"signals_bell\",\"pl\": \"transport_aircraft\",\"ps\": \"human_movement\",\"R\": \"\",\"r\": \"\",\"r'\": \"\",\"ra\": \"nature_rain\",\"ro\": \"animal_poultry\",\"sh\": \"animal_other\",\"si\": \"signals_siren\",\"sp\": \"mechanical_construction\",\"t\": \"human_voice\",\"ta\": \"human_voice\",\"tar\": \"human_voice\",\"tdoa\": \"human_voice\",\"tf\": \"human_movement\",\"th\": \"mechanical_impulsive\",\"tl\": \"signals_bell\",\"tr\": \"transport_train\",\"va\": \"mechanical_construction\",\"w\": \"nature_wind\",\"we\": \"mechanical_construction\",\"wef\": \"mechanical_construction\",\"wf\": \"mechanical_construction\",\"wh\": \"signals_bell\",\"wi\": \"nature_wind\",\"wib\": \"nature_wind\",\"wo\": \"mechanical_construction\",\"ya\": \"\",\"air_conditioner\": \"mechanical\",\"car_horn\": \"signals_horn\",\"children_playing\": \"human_voice\",\"dog_bark\": \"animal_dogs\",\"drilling\": \"mechanical_construction\",\"engine_idling\": \"transport_car\",\"gun_shot\": \"mechanical_impulsive\",\"jackhammer\": \"mechanical_construction\",\"siren\": \"signals_siren\",\"street_music\": \"music\", \"#NAME?\": \"\"}\n",
    "\n",
    "final_categories = [\"animal_dogs\", \"animal_insects\", \"animal_birds\", \"animal_cockatoo\", \"animal_poultry\",  \"background\",\"human_voice\",  \"indeterminate\",\"mechanical\", \"mechanical_construction\", \"mechanical_impulsive\",\"nature_wind\", \"signals_horn\", \"signals_siren\", \"transport_car\"]\n",
    "\n",
    "from sklearn.preprocessing import MultiLabelBinarizer\n",
    "\n",
    "category_encoder = MultiLabelBinarizer().fit([final_categories])"
   ]
  },
  {
   "cell_type": "code",
   "execution_count": 46,
   "id": "d8e3750f",
   "metadata": {},
   "outputs": [
    {
     "data": {
      "text/html": [
       "<div>\n",
       "<style scoped>\n",
       "    .dataframe tbody tr th:only-of-type {\n",
       "        vertical-align: middle;\n",
       "    }\n",
       "\n",
       "    .dataframe tbody tr th {\n",
       "        vertical-align: top;\n",
       "    }\n",
       "\n",
       "    .dataframe thead th {\n",
       "        text-align: right;\n",
       "    }\n",
       "</style>\n",
       "<table border=\"1\" class=\"dataframe\">\n",
       "  <thead>\n",
       "    <tr style=\"text-align: right;\">\n",
       "      <th></th>\n",
       "      <th>filename</th>\n",
       "      <th>package_hash</th>\n",
       "      <th>manual_tag</th>\n",
       "    </tr>\n",
       "  </thead>\n",
       "  <tbody>\n",
       "    <tr>\n",
       "      <th>0</th>\n",
       "      <td>2019-02-19 19_39_18.wav</td>\n",
       "      <td>635_cnnmodel_20190220_verification_package</td>\n",
       "      <td>ba-do</td>\n",
       "    </tr>\n",
       "    <tr>\n",
       "      <th>1</th>\n",
       "      <td>2019-02-06 13_14_24.wav</td>\n",
       "      <td>635_cnnmodel_20190220_verification_package</td>\n",
       "      <td>ta-do</td>\n",
       "    </tr>\n",
       "    <tr>\n",
       "      <th>2</th>\n",
       "      <td>2019-02-19 19_46_53.wav</td>\n",
       "      <td>635_cnnmodel_20190220_verification_package</td>\n",
       "      <td>ba-do</td>\n",
       "    </tr>\n",
       "    <tr>\n",
       "      <th>3</th>\n",
       "      <td>2019-02-17 19_23_04.wav</td>\n",
       "      <td>635_cnnmodel_20190220_verification_package</td>\n",
       "      <td>cr-do</td>\n",
       "    </tr>\n",
       "    <tr>\n",
       "      <th>4</th>\n",
       "      <td>2019-02-19 19_03_00.wav</td>\n",
       "      <td>635_cnnmodel_20190220_verification_package</td>\n",
       "      <td>wi-ba</td>\n",
       "    </tr>\n",
       "  </tbody>\n",
       "</table>\n",
       "</div>"
      ],
      "text/plain": [
       "                  filename                                package_hash  \\\n",
       "0  2019-02-19 19_39_18.wav  635_cnnmodel_20190220_verification_package   \n",
       "1  2019-02-06 13_14_24.wav  635_cnnmodel_20190220_verification_package   \n",
       "2  2019-02-19 19_46_53.wav  635_cnnmodel_20190220_verification_package   \n",
       "3  2019-02-17 19_23_04.wav  635_cnnmodel_20190220_verification_package   \n",
       "4  2019-02-19 19_03_00.wav  635_cnnmodel_20190220_verification_package   \n",
       "\n",
       "  manual_tag  \n",
       "0      ba-do  \n",
       "1      ta-do  \n",
       "2      ba-do  \n",
       "3      cr-do  \n",
       "4      wi-ba  "
      ]
     },
     "execution_count": 46,
     "metadata": {},
     "output_type": "execute_result"
    }
   ],
   "source": [
    "# set your path here\n",
    "data_root = pathlib.Path('/Volumes/Clavius/documents/Documents/Employment/NoiseNet/Development/tag_data/processed/')\n",
    "manifest_path = data_root/'02_manifest.csv'\n",
    "\n",
    "# read the manifest in\n",
    "manifest = pd.read_csv(manifest_path)\n",
    "manifest.head()"
   ]
  },
  {
   "cell_type": "code",
   "execution_count": 47,
   "id": "cd1c9c1e",
   "metadata": {},
   "outputs": [
    {
     "data": {
      "text/html": [
       "<div>\n",
       "<style scoped>\n",
       "    .dataframe tbody tr th:only-of-type {\n",
       "        vertical-align: middle;\n",
       "    }\n",
       "\n",
       "    .dataframe tbody tr th {\n",
       "        vertical-align: top;\n",
       "    }\n",
       "\n",
       "    .dataframe thead th {\n",
       "        text-align: right;\n",
       "    }\n",
       "</style>\n",
       "<table border=\"1\" class=\"dataframe\">\n",
       "  <thead>\n",
       "    <tr style=\"text-align: right;\">\n",
       "      <th></th>\n",
       "      <th>filename</th>\n",
       "      <th>package_hash</th>\n",
       "      <th>manual_tag</th>\n",
       "      <th>tag_set</th>\n",
       "      <th>category_set</th>\n",
       "    </tr>\n",
       "  </thead>\n",
       "  <tbody>\n",
       "    <tr>\n",
       "      <th>0</th>\n",
       "      <td>2019-02-19 19_39_18.wav</td>\n",
       "      <td>635_cnnmodel_20190220_verification_package</td>\n",
       "      <td>ba-do</td>\n",
       "      <td>{ba, do}</td>\n",
       "      <td>{animal_dogs, background}</td>\n",
       "    </tr>\n",
       "    <tr>\n",
       "      <th>1</th>\n",
       "      <td>2019-02-06 13_14_24.wav</td>\n",
       "      <td>635_cnnmodel_20190220_verification_package</td>\n",
       "      <td>ta-do</td>\n",
       "      <td>{ta, do}</td>\n",
       "      <td>{animal_dogs, human_voice}</td>\n",
       "    </tr>\n",
       "    <tr>\n",
       "      <th>2</th>\n",
       "      <td>2019-02-19 19_46_53.wav</td>\n",
       "      <td>635_cnnmodel_20190220_verification_package</td>\n",
       "      <td>ba-do</td>\n",
       "      <td>{ba, do}</td>\n",
       "      <td>{animal_dogs, background}</td>\n",
       "    </tr>\n",
       "    <tr>\n",
       "      <th>3</th>\n",
       "      <td>2019-02-17 19_23_04.wav</td>\n",
       "      <td>635_cnnmodel_20190220_verification_package</td>\n",
       "      <td>cr-do</td>\n",
       "      <td>{cr, do}</td>\n",
       "      <td>{animal_dogs, animal_insects}</td>\n",
       "    </tr>\n",
       "    <tr>\n",
       "      <th>4</th>\n",
       "      <td>2019-02-19 19_03_00.wav</td>\n",
       "      <td>635_cnnmodel_20190220_verification_package</td>\n",
       "      <td>wi-ba</td>\n",
       "      <td>{ba, wi}</td>\n",
       "      <td>{nature_wind, background}</td>\n",
       "    </tr>\n",
       "  </tbody>\n",
       "</table>\n",
       "</div>"
      ],
      "text/plain": [
       "                  filename                                package_hash  \\\n",
       "0  2019-02-19 19_39_18.wav  635_cnnmodel_20190220_verification_package   \n",
       "1  2019-02-06 13_14_24.wav  635_cnnmodel_20190220_verification_package   \n",
       "2  2019-02-19 19_46_53.wav  635_cnnmodel_20190220_verification_package   \n",
       "3  2019-02-17 19_23_04.wav  635_cnnmodel_20190220_verification_package   \n",
       "4  2019-02-19 19_03_00.wav  635_cnnmodel_20190220_verification_package   \n",
       "\n",
       "  manual_tag   tag_set                   category_set  \n",
       "0      ba-do  {ba, do}      {animal_dogs, background}  \n",
       "1      ta-do  {ta, do}     {animal_dogs, human_voice}  \n",
       "2      ba-do  {ba, do}      {animal_dogs, background}  \n",
       "3      cr-do  {cr, do}  {animal_dogs, animal_insects}  \n",
       "4      wi-ba  {ba, wi}      {nature_wind, background}  "
      ]
     },
     "execution_count": 47,
     "metadata": {},
     "output_type": "execute_result"
    }
   ],
   "source": [
    "# assign a set of tags to each row\n",
    "manifest['tag_set'] = manifest['manual_tag'].apply(get_tag_set)\n",
    "# from these individual tags, perform the lookup and assign the set of categories\n",
    "manifest['category_set'] = manifest['tag_set'].apply(lambda x: {category_mapping[t] for t in x})\n",
    "manifest.head()"
   ]
  },
  {
   "cell_type": "code",
   "execution_count": 66,
   "id": "251afda1",
   "metadata": {},
   "outputs": [
    {
     "data": {
      "text/html": [
       "<div>\n",
       "<style scoped>\n",
       "    .dataframe tbody tr th:only-of-type {\n",
       "        vertical-align: middle;\n",
       "    }\n",
       "\n",
       "    .dataframe tbody tr th {\n",
       "        vertical-align: top;\n",
       "    }\n",
       "\n",
       "    .dataframe thead th {\n",
       "        text-align: right;\n",
       "    }\n",
       "</style>\n",
       "<table border=\"1\" class=\"dataframe\">\n",
       "  <thead>\n",
       "    <tr style=\"text-align: right;\">\n",
       "      <th></th>\n",
       "      <th>category</th>\n",
       "      <th>filename</th>\n",
       "      <th>package_hash</th>\n",
       "      <th>manual_tag</th>\n",
       "      <th>tag_set</th>\n",
       "      <th>category_set</th>\n",
       "    </tr>\n",
       "  </thead>\n",
       "  <tbody>\n",
       "    <tr>\n",
       "      <th>47</th>\n",
       "      <td>animal_dogs</td>\n",
       "      <td>2019-02-19 19_39_18.wav</td>\n",
       "      <td>635_cnnmodel_20190220_verification_package</td>\n",
       "      <td>ba-do</td>\n",
       "      <td>{ba, do}</td>\n",
       "      <td>{animal_dogs, background}</td>\n",
       "    </tr>\n",
       "    <tr>\n",
       "      <th>48</th>\n",
       "      <td>animal_dogs</td>\n",
       "      <td>2019-02-06 13_14_24.wav</td>\n",
       "      <td>635_cnnmodel_20190220_verification_package</td>\n",
       "      <td>ta-do</td>\n",
       "      <td>{ta, do}</td>\n",
       "      <td>{animal_dogs, human_voice}</td>\n",
       "    </tr>\n",
       "    <tr>\n",
       "      <th>49</th>\n",
       "      <td>animal_dogs</td>\n",
       "      <td>2019-02-19 19_46_53.wav</td>\n",
       "      <td>635_cnnmodel_20190220_verification_package</td>\n",
       "      <td>ba-do</td>\n",
       "      <td>{ba, do}</td>\n",
       "      <td>{animal_dogs, background}</td>\n",
       "    </tr>\n",
       "    <tr>\n",
       "      <th>50</th>\n",
       "      <td>animal_dogs</td>\n",
       "      <td>2019-02-17 19_23_04.wav</td>\n",
       "      <td>635_cnnmodel_20190220_verification_package</td>\n",
       "      <td>cr-do</td>\n",
       "      <td>{cr, do}</td>\n",
       "      <td>{animal_dogs, animal_insects}</td>\n",
       "    </tr>\n",
       "    <tr>\n",
       "      <th>51</th>\n",
       "      <td>animal_dogs</td>\n",
       "      <td>2019-02-19 19_47_09.wav</td>\n",
       "      <td>635_cnnmodel_20190220_verification_package</td>\n",
       "      <td>cr-do</td>\n",
       "      <td>{cr, do}</td>\n",
       "      <td>{animal_dogs, animal_insects}</td>\n",
       "    </tr>\n",
       "    <tr>\n",
       "      <th>...</th>\n",
       "      <td>...</td>\n",
       "      <td>...</td>\n",
       "      <td>...</td>\n",
       "      <td>...</td>\n",
       "      <td>...</td>\n",
       "      <td>...</td>\n",
       "    </tr>\n",
       "    <tr>\n",
       "      <th>475370</th>\n",
       "      <td>mechanical_construction</td>\n",
       "      <td>99192-4-0-52.wav</td>\n",
       "      <td>u8k_fold10</td>\n",
       "      <td>drilling</td>\n",
       "      <td>{drilling}</td>\n",
       "      <td>{mechanical_construction}</td>\n",
       "    </tr>\n",
       "    <tr>\n",
       "      <th>475371</th>\n",
       "      <td>mechanical_construction</td>\n",
       "      <td>99192-4-0-53.wav</td>\n",
       "      <td>u8k_fold10</td>\n",
       "      <td>drilling</td>\n",
       "      <td>{drilling}</td>\n",
       "      <td>{mechanical_construction}</td>\n",
       "    </tr>\n",
       "    <tr>\n",
       "      <th>475372</th>\n",
       "      <td>mechanical_construction</td>\n",
       "      <td>99192-4-0-54.wav</td>\n",
       "      <td>u8k_fold10</td>\n",
       "      <td>drilling</td>\n",
       "      <td>{drilling}</td>\n",
       "      <td>{mechanical_construction}</td>\n",
       "    </tr>\n",
       "    <tr>\n",
       "      <th>475373</th>\n",
       "      <td>mechanical_construction</td>\n",
       "      <td>99192-4-0-55.wav</td>\n",
       "      <td>u8k_fold10</td>\n",
       "      <td>drilling</td>\n",
       "      <td>{drilling}</td>\n",
       "      <td>{mechanical_construction}</td>\n",
       "    </tr>\n",
       "    <tr>\n",
       "      <th>475374</th>\n",
       "      <td>mechanical_construction</td>\n",
       "      <td>99192-4-0-7.wav</td>\n",
       "      <td>u8k_fold10</td>\n",
       "      <td>drilling</td>\n",
       "      <td>{drilling}</td>\n",
       "      <td>{mechanical_construction}</td>\n",
       "    </tr>\n",
       "  </tbody>\n",
       "</table>\n",
       "<p>468719 rows × 6 columns</p>\n",
       "</div>"
      ],
      "text/plain": [
       "                       category                 filename  \\\n",
       "47                  animal_dogs  2019-02-19 19_39_18.wav   \n",
       "48                  animal_dogs  2019-02-06 13_14_24.wav   \n",
       "49                  animal_dogs  2019-02-19 19_46_53.wav   \n",
       "50                  animal_dogs  2019-02-17 19_23_04.wav   \n",
       "51                  animal_dogs  2019-02-19 19_47_09.wav   \n",
       "...                         ...                      ...   \n",
       "475370  mechanical_construction         99192-4-0-52.wav   \n",
       "475371  mechanical_construction         99192-4-0-53.wav   \n",
       "475372  mechanical_construction         99192-4-0-54.wav   \n",
       "475373  mechanical_construction         99192-4-0-55.wav   \n",
       "475374  mechanical_construction          99192-4-0-7.wav   \n",
       "\n",
       "                                      package_hash manual_tag     tag_set  \\\n",
       "47      635_cnnmodel_20190220_verification_package      ba-do    {ba, do}   \n",
       "48      635_cnnmodel_20190220_verification_package      ta-do    {ta, do}   \n",
       "49      635_cnnmodel_20190220_verification_package      ba-do    {ba, do}   \n",
       "50      635_cnnmodel_20190220_verification_package      cr-do    {cr, do}   \n",
       "51      635_cnnmodel_20190220_verification_package      cr-do    {cr, do}   \n",
       "...                                            ...        ...         ...   \n",
       "475370                                  u8k_fold10   drilling  {drilling}   \n",
       "475371                                  u8k_fold10   drilling  {drilling}   \n",
       "475372                                  u8k_fold10   drilling  {drilling}   \n",
       "475373                                  u8k_fold10   drilling  {drilling}   \n",
       "475374                                  u8k_fold10   drilling  {drilling}   \n",
       "\n",
       "                         category_set  \n",
       "47          {animal_dogs, background}  \n",
       "48         {animal_dogs, human_voice}  \n",
       "49          {animal_dogs, background}  \n",
       "50      {animal_dogs, animal_insects}  \n",
       "51      {animal_dogs, animal_insects}  \n",
       "...                               ...  \n",
       "475370      {mechanical_construction}  \n",
       "475371      {mechanical_construction}  \n",
       "475372      {mechanical_construction}  \n",
       "475373      {mechanical_construction}  \n",
       "475374      {mechanical_construction}  \n",
       "\n",
       "[468719 rows x 6 columns]"
      ]
     },
     "execution_count": 66,
     "metadata": {},
     "output_type": "execute_result"
    }
   ],
   "source": [
    "# Perform the one-to-many assignment to flatten category set into individual categories\n",
    "# each row (snippet) may appear more than once in the categorised dataframe, once for each category of noise \n",
    "# that was tagged in the snippet\n",
    "categorised = one_to_many(manifest, from_col='category_set', to_col='category')\n",
    "categorised_reduced = categorised[categorised['category'].apply(lambda x: x in final_categories)]\n",
    "categorised_reduced"
   ]
  },
  {
   "cell_type": "code",
   "execution_count": 65,
   "id": "0bbb1934",
   "metadata": {},
   "outputs": [
    {
     "name": "stdout",
     "output_type": "stream",
     "text": [
      "category\n",
      "animal_birds               94697\n",
      "animal_cockatoo              677\n",
      "animal_dogs                91494\n",
      "animal_insects             24668\n",
      "animal_poultry               943\n",
      "background                 40316\n",
      "human_voice                38710\n",
      "indeterminate                997\n",
      "mechanical                 86689\n",
      "mechanical_construction     2823\n",
      "mechanical_impulsive         436\n",
      "nature_wind                32652\n",
      "signals_horn                 431\n",
      "signals_siren                950\n",
      "transport_car              52236\n"
     ]
    },
    {
     "data": {
      "text/plain": [
       "<AxesSubplot:xlabel='category'>"
      ]
     },
     "execution_count": 65,
     "metadata": {},
     "output_type": "execute_result"
    },
    {
     "data": {
      "image/png": "[encoded data removed]",
      "text/plain": [
       "<Figure size 432x288 with 1 Axes>"
      ]
     },
     "metadata": {
      "needs_background": "light"
     },
     "output_type": "display_data"
    }
   ],
   "source": [
    "# show the supports for each category\n",
    "tag_counts = supports(categorised, on_col='category')\n",
    "print(tag_counts.to_string())\n",
    "tag_counts.plot(kind='bar')"
   ]
  },
  {
   "cell_type": "code",
   "execution_count": null,
   "id": "a246c8ba",
   "metadata": {
    "scrolled": true
   },
   "outputs": [],
   "source": [
    "# listen to snippets and view spectrograms as desired.\n",
    "# filter the first argument dataframe as desired to listen to whatever specific snippets you want\n",
    "# e.g. listen_to_snippets(categorised[categorised['category'] == 'dogs'], data_root, random =True, n=10)\n",
    "\n",
    "# enter \"r\" to repeat playback, or \"q\" to quit gracefully. \n",
    "# anything else will continue to the next snippet\n",
    "listen_to_snippets(categorised[(categorised['category']=='nature_rain') ], data_root, random =True)"
   ]
  },
  {
   "cell_type": "code",
   "execution_count": null,
   "id": "8496bc87",
   "metadata": {},
   "outputs": [],
   "source": []
  },
  {
   "cell_type": "code",
   "execution_count": null,
   "id": "6c61e27f",
   "metadata": {},
   "outputs": [],
   "source": []
  },
  {
   "cell_type": "code",
   "execution_count": null,
   "id": "268947e7",
   "metadata": {},
   "outputs": [],
   "source": []
  },
  {
   "cell_type": "code",
   "execution_count": null,
   "id": "d966ce98",
   "metadata": {},
   "outputs": [],
   "source": []
  },
  {
   "cell_type": "code",
   "execution_count": 72,
   "id": "426c793e",
   "metadata": {},
   "outputs": [
    {
     "data": {
      "text/plain": [
       "0.2020336278239201"
      ]
     },
     "execution_count": 72,
     "metadata": {},
     "output_type": "execute_result"
    }
   ],
   "source": []
  },
  {
   "cell_type": "code",
   "execution_count": 77,
   "id": "7621ddf5",
   "metadata": {},
   "outputs": [
    {
     "data": {
      "text/plain": [
       "15"
      ]
     },
     "execution_count": 77,
     "metadata": {},
     "output_type": "execute_result"
    }
   ],
   "source": [
    "len(supports(categorised_reduced))"
   ]
  },
  {
   "cell_type": "code",
   "execution_count": 82,
   "id": "bdd1030c",
   "metadata": {},
   "outputs": [
    {
     "data": {
      "text/plain": [
       "15"
      ]
     },
     "execution_count": 82,
     "metadata": {},
     "output_type": "execute_result"
    }
   ],
   "source": [
    "categorised_sample = categorised_reduced.sample(n=5000)\n",
    "sampled_supports = supports(categorised_sample)\n"
   ]
  },
  {
   "cell_type": "code",
   "execution_count": 145,
   "id": "5e97b5ac",
   "metadata": {},
   "outputs": [],
   "source": []
  },
  {
   "cell_type": "code",
   "execution_count": 147,
   "id": "fd106227",
   "metadata": {},
   "outputs": [],
   "source": [
    "categorised_sample_one = many_to_one(categorised_sample)\n",
    "categorised_sample_one\n",
    "new_dest = data_root.parent/'sample_set'\n",
    "new_dest.mkdir(exist_ok=True)\n",
    "copy_to_new_package(categorised_sample_one, new_dest)"
   ]
  },
  {
   "cell_type": "code",
   "execution_count": 143,
   "id": "607dfa8f",
   "metadata": {},
   "outputs": [
    {
     "data": {
      "text/plain": [
       "array([2382,    6, 2229,  677,   12,  915,  964,   17, 2099,   35,    4,\n",
       "        856,    7,    7, 1251])"
      ]
     },
     "execution_count": 143,
     "metadata": {},
     "output_type": "execute_result"
    }
   ],
   "source": [
    "category_encoder.transform(categorised_sample_one.category_set.values).sum(axis=0)"
   ]
  },
  {
   "cell_type": "code",
   "execution_count": 138,
   "id": "b86801c1",
   "metadata": {},
   "outputs": [
    {
     "data": {
      "text/plain": [
       "array(['animal_birds', 'animal_cockatoo', 'animal_dogs', 'animal_insects',\n",
       "       'animal_poultry', 'background', 'human_voice', 'impulsive',\n",
       "       'indeterminate', 'mechanical', 'mechanical_construction',\n",
       "       'mechanical_impulsive', 'nature_wind', 'signals_horn',\n",
       "       'signals_siren', 'transport_car'], dtype=object)"
      ]
     },
     "execution_count": 138,
     "metadata": {},
     "output_type": "execute_result"
    }
   ],
   "source": [
    "category_encoder.classes_"
   ]
  },
  {
   "cell_type": "code",
   "execution_count": null,
   "id": "d066f9e0",
   "metadata": {},
   "outputs": [],
   "source": []
  }
 ],
 "metadata": {
  "kernelspec": {
   "display_name": "Python 3 (ipykernel)",
   "language": "python",
   "name": "python3"
  },
  "language_info": {
   "codemirror_mode": {
    "name": "ipython",
    "version": 3
   },
   "file_extension": ".py",
   "mimetype": "text/x-python",
   "name": "python",
   "nbconvert_exporter": "python",
   "pygments_lexer": "ipython3",
   "version": "3.10.2"
  }
 },
 "nbformat": 4,
 "nbformat_minor": 5
}
