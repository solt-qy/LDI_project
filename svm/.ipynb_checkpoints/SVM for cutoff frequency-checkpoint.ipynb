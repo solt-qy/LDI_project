{
 "cells": [
  {
   "cell_type": "code",
   "execution_count": 25,
   "id": "2817c5b6",
   "metadata": {},
   "outputs": [],
   "source": [
    "import numpy as np\n",
    "import scipy.io.wavfile as wav\n",
    "from scipy.fft import fft\n",
    "\n",
    "fs, y = wav.read(\"dog.wav\")\n",
    "freq = np.linspace(0, fs/2, len(y)//2+1)\n",
    "time = len(y)/fs\n",
    "t = np.linspace(0, time, len(y))\n",
    "f_noise = 3000\n",
    "noise = 0.02*np.cos(2*np.pi*f_noise*t)\n",
    "y_noisy = y + noise\n",
    "y_fft = fft(y_noisy)\n",
    "y_fft = y_fft[0:len(y)//2+1]\n",
    "threshold = 10;\n",
    "idx = np.argwhere(y_fft>threshold)\n",
    "idx2 = np.argwhere(y_fft<=threshold)"
   ]
  },
  {
   "cell_type": "code",
   "execution_count": null,
   "id": "3fb1de4c",
   "metadata": {},
   "outputs": [],
   "source": [
    "Y = np.zeros(1,len(y_fft))\n",
    "Y[idx] = 1\n",
    "Y[idx2] = 0"
   ]
  }
 ],
 "metadata": {
  "kernelspec": {
   "display_name": "Python 3 (ipykernel)",
   "language": "python",
   "name": "python3"
  },
  "language_info": {
   "codemirror_mode": {
    "name": "ipython",
    "version": 3
   },
   "file_extension": ".py",
   "mimetype": "text/x-python",
   "name": "python",
   "nbconvert_exporter": "python",
   "pygments_lexer": "ipython3",
   "version": "3.8.12"
  }
 },
 "nbformat": 4,
 "nbformat_minor": 5
}
